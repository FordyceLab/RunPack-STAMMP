{
  "cells": [
    {
      "cell_type": "markdown",
      "source": [
        "## Import dependencies and make data directory"
      ],
      "metadata": {}
    },
    {
      "cell_type": "code",
      "source": [
        "import sys\n",
        "sys.path.insert(0, r'C:/Users/Stanford/Documents/Controllers/STAMMP/')"
      ],
      "outputs": [],
      "execution_count": null,
      "metadata": {}
    },
    {
      "cell_type": "code",
      "source": [
        "import time\n",
        "from runpack-stammp import io\n",
        "from runpack-stammp import imagingcontrol as imaging\n",
        "from runpack-stammp import valvecontrol as v\n",
        "from runpack-stammp import mitomiprotocols as protocols\n",
        "from runpack-stammp import tfMITOMIProtocols as tfprotocols\n",
        "from runpack-stammp import assays\n",
        "\n"
      ],
      "outputs": [],
      "execution_count": null,
      "metadata": {}
    },
    {
      "cell_type": "code",
      "source": [
        "#Create the ExperimentalHarness\n",
        "description = 'experiment description here'\n",
        "rootPath = r'data directory here'\n",
        "exp = io.ExperimentalHarness(rootPath, description)"
      ],
      "outputs": [],
      "execution_count": null,
      "metadata": {}
    },
    {
      "cell_type": "code",
      "source": [
        "#Instantiate the HardwareInterface\n",
        "conf = r'C:\\Users\\Stanford\\Documents\\Controllers\\Configurations\\ht-mek_setup4.json'\n",
        "exphardware = io.HardwareInterface(loadAllHardware = False, configLoc = conf)"
      ],
      "outputs": [],
      "execution_count": null,
      "metadata": {}
    },
    {
      "cell_type": "code",
      "source": [
        "exphardware.intializeManifoldControl()\n",
        "exphardware.initializeTempProbe()"
      ],
      "outputs": [],
      "execution_count": null,
      "metadata": {}
    },
    {
      "cell_type": "code",
      "source": [
        "v.launchGui()"
      ],
      "outputs": [],
      "execution_count": null,
      "metadata": {}
    },
    {
      "cell_type": "markdown",
      "source": [
        "## Add position lists"
      ],
      "metadata": {}
    },
    {
      "cell_type": "code",
      "source": [
        "#make the position lists after patterning device (make 1 per device) \n",
        "\n",
        "poslist1Loc = r\"\" #put directory to position list file here\n",
        "exp.addPositionList('d1', poslist1Loc)\n",
        "\n",
        "poslist2Loc = r\"\" #put directory to position list file here\n",
        "exp.addPositionList('d2', poslist2Loc)"
      ],
      "outputs": [],
      "execution_count": null,
      "metadata": {}
    },
    {
      "cell_type": "code",
      "source": [
        "exphardware.initializeTempProbe()\n",
        "exphardware.initializeMicroManager()"
      ],
      "outputs": [],
      "execution_count": null,
      "metadata": {}
    },
    {
      "cell_type": "code",
      "source": [
        "exphardware.setScopeConfig(exposure = 500, binning = \"2x2\", channel = 'cy5')\n",
        "imaging.snap()"
      ],
      "outputs": [],
      "execution_count": null,
      "metadata": {
        "scrolled": true
      }
    },
    {
      "cell_type": "code",
      "source": [
        "note = '' #note about scan parameters here\n",
        "imaging.scan(exp.rootPath, {'cy5': [500]}, 'd2', note, exp.posLists['d2'], wrappingFolder=True)\n",
        "imaging.scan(exp.rootPath, {'egfp':[500], 'cy5': [500]}, 'd2', note, exp.posLists['d2'], wrappingFolder=True)\n",
        "\n"
      ],
      "outputs": [],
      "execution_count": null,
      "metadata": {}
    },
    {
      "cell_type": "markdown",
      "source": [
        "## Pattern devices|"
      ],
      "metadata": {}
    },
    {
      "cell_type": "code",
      "source": [
        "devices = ['d1','d2']\n",
        "protocols.patternDevices(devices)"
      ],
      "outputs": [],
      "execution_count": null,
      "metadata": {
        "scrolled": false
      }
    },
    {
      "cell_type": "markdown",
      "source": [
        "## Oligo Assays"
      ],
      "metadata": {}
    },
    {
      "cell_type": "markdown",
      "source": [
        "### Establish experimental parameters"
      ],
      "metadata": {}
    },
    {
      "cell_type": "code",
      "source": [
        "devices = ['d1','d2']\n",
        "\n",
        "\n",
        "#Establish the buffer input for both devices\n",
        "bufferInputs = ['hep1','hep2']\n",
        "\n",
        "\n",
        "#establish substrate inputs for both devices (on per assay basis)\n",
        "substrateInput_1 = ['prot1','prot2']\n",
        "substrateInput_2 = ['ext21','ext22']\n",
        "substrateInput_3 = ['ext11','ext12']\n",
        "substrateInput_4 = ['ph1','ph2']\n",
        "substrateInput_5 = ['na1','na2']\n",
        "substrateInput_6 = ['bb1','bb2']\n",
        "\n",
        "#establish notes for the device\n",
        "notes = ['MAX_TCACGTGA_50mM_NaCl','MAX_CCACGTGA_50mM_NaCl']\n",
        "\n",
        "#establish time parameters of binding assay\n",
        "equilibrationTime = 600\n",
        "treeFlushTime = 40\n",
        "bindingTime = 3000\n",
        "washoutTime = 600\n",
        "\n",
        "#kinetic assay parameters\n",
        "points = 20\n",
        "dutyCycle = 5\n",
        "\n",
        "#establish imaging parameters of the assay\n",
        "postwashEquilibImageChanExp = {'cy5': [500]}\n",
        "postwashImageChanExp = {'cy5': [5000],'egfp':[500]}"
      ],
      "outputs": [],
      "execution_count": null,
      "metadata": {}
    },
    {
      "cell_type": "markdown",
      "source": [
        "## Trypsin digest"
      ],
      "metadata": {}
    },
    {
      "cell_type": "code",
      "source": [
        "#Trypsin digest cell here for running--run before experiment and after protein is bound!!\n",
        "\n",
        "devices=['d1','d2']\n",
        "bufferInputs =['hep1','hep2']\n",
        "trypInputs =['na1','na2']\n",
        "bBSAInputs = ['bb1','bb2']\n",
        "\n",
        "tfprotocols.trypsinDigest(devices, bufferInputs,trypInputs,bBSAInputs,washoutTime=600,trypsinWashTime=900)"
      ],
      "outputs": [],
      "execution_count": null,
      "metadata": {}
    },
    {
      "cell_type": "markdown",
      "source": [
        "### Run Experiment with dissociation kinetics"
      ],
      "metadata": {}
    },
    {
      "cell_type": "code",
      "source": [
        "#run either this cell or the next cell, depending on whether or not kinetics are done\n",
        "\n",
        "tfprotocols.flowOligoStartAssaysConcurrent(devices, substrateInput_1, bufferInputs, notes, 30, treeFlushTime, bindingTime, washoutTime, postwashEquilibImageChanExp, postwashImageChanExp)\n",
        "tfprotocols.flowOligoStartAssaysConcurrent(devices, substrateInput_2, bufferInputs, notes, equilibrationTime, treeFlushTime, bindingTime, washoutTime, postwashEquilibImageChanExp, postwashImageChanExp)\n",
        "tfprotocols.flowOligoStartAssaysConcurrent(devices, substrateInput_3, bufferInputs, notes, equilibrationTime, treeFlushTime, bindingTime, washoutTime, postwashEquilibImageChanExp, postwashImageChanExp)\n",
        "tfprotocols.flowOligoStartAssaysConcurrent(devices, substrateInput_4, bufferInputs, notes, equilibrationTime, treeFlushTime, bindingTime, washoutTime, postwashEquilibImageChanExp, postwashImageChanExp)\n",
        "tfprotocols.flowOligoStartAssaysConcurrent(devices, substrateInput_5, bufferInputs, notes, equilibrationTime, treeFlushTime, bindingTime, washoutTime, postwashEquilibImageChanExp, postwashImageChanExp)\n",
        "tfprotocols.flowOligoStartAssaysConcurrent(devices, substrateInput_6, bufferInputs, notes, equilibrationTime, treeFlushTime, bindingTime, washoutTime, postwashEquilibImageChanExp, postwashImageChanExp)\n",
        "#tfprotocols.dissociationConcurrent(devices, bufferInputs, notes, points, dutyCycle, washoutTime,postwashImageChanExp)\n"
      ],
      "outputs": [],
      "execution_count": null,
      "metadata": {}
    },
    {
      "cell_type": "code",
      "source": [
        "#equilibrate in buffer for 1hr\n",
        "tfprotocols.flowOligoStartAssaysConcurrent(devices, bufferInputs, bufferInputs, notes, equilibrationTime, treeFlushTime, bindingTime, washoutTime, postwashEquilibImageChanExp, postwashImageChanExp)\n",
        "tfprotocols.flowOligoStartAssaysConcurrent(devices, substrateInput_1, bufferInputs, notes, equilibrationTime, treeFlushTime, bindingTime, washoutTime, postwashEquilibImageChanExp, postwashImageChanExp)\n",
        "tfprotocols.flowOligoStartAssaysConcurrent(devices, substrateInput_2, bufferInputs, notes, equilibrationTime, treeFlushTime, bindingTime, washoutTime, postwashEquilibImageChanExp, postwashImageChanExp)\n",
        "tfprotocols.flowOligoStartAssaysConcurrent(devices, substrateInput_3, bufferInputs, notes, equilibrationTime, treeFlushTime, bindingTime, washoutTime, postwashEquilibImageChanExp, postwashImageChanExp)\n",
        "tfprotocols.flowOligoStartAssaysConcurrent(devices, substrateInput_4, bufferInputs, notes, equilibrationTime, treeFlushTime, bindingTime, washoutTime, postwashEquilibImageChanExp, postwashImageChanExp)\n",
        "tfprotocols.flowOligoStartAssaysConcurrent(devices, substrateInput_5, bufferInputs, notes, equilibrationTime, treeFlushTime, bindingTime, washoutTime, postwashEquilibImageChanExp, postwashImageChanExp)\n",
        "\n",
        "\n",
        "#I will wash with substrateInput_1 because I will replace that with buffer containing dark oligo for kinetics\n",
        "tfprotocols.flowOligoStartAssaysConcurrent(devices, substrateInput_6, substrateInput_1, notes, equilibrationTime, treeFlushTime, bindingTime, washoutTime, postwashEquilibImageChanExp, postwashImageChanExp)\n",
        "\n",
        "tfprotocols.dissociationConcurrent(devices, substrateInput_1, notes, points, dutyCycle, washoutTime,postwashImageChanExp)\n"
      ],
      "outputs": [],
      "execution_count": null,
      "metadata": {
        "scrolled": true
      }
    },
    {
      "cell_type": "code",
      "source": [
        "exphardware.unloadHardware()"
      ],
      "outputs": [],
      "execution_count": null,
      "metadata": {}
    }
  ],
  "metadata": {
    "kernelspec": {
      "display_name": "Python 2",
      "language": "python",
      "name": "python2"
    },
    "language_info": {
      "codemirror_mode": {
        "name": "ipython",
        "version": 2
      },
      "file_extension": ".py",
      "mimetype": "text/x-python",
      "name": "python",
      "nbconvert_exporter": "python",
      "pygments_lexer": "ipython2",
      "version": "2.7.16"
    },
    "nteract": {
      "version": "0.25.0"
    }
  },
  "nbformat": 4,
  "nbformat_minor": 2
}